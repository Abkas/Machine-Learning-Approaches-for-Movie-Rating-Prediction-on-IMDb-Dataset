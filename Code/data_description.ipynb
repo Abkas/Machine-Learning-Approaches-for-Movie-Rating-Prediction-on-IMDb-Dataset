{
 "cells": [
  {
   "cell_type": "markdown",
   "id": "21114607",
   "metadata": {},
   "source": [
    "\n",
    " # __DATA DESCRIPTION__\n",
    " "
   ]
  },
  {
   "cell_type": "code",
   "execution_count": 2,
   "id": "6e177ade",
   "metadata": {},
   "outputs": [
    {
     "name": "stderr",
     "output_type": "stream",
     "text": [
      "C:\\Users\\abhis\\AppData\\Local\\Temp\\ipykernel_7396\\537993871.py:4: DtypeWarning: Columns (3) have mixed types. Specify dtype option on import or set low_memory=False.\n",
      "  movies_df = pd.read_csv('./data1/IMDb movies.csv')\n"
     ]
    }
   ],
   "source": [
    "import pandas as pd\n",
    "import numpy as np\n",
    "\n",
    "movies_df = pd.read_csv('./data1/IMDb movies.csv')\n",
    "ratings_df = pd.read_csv('./data1/IMDb ratings.csv')"
   ]
  },
  {
   "cell_type": "markdown",
   "id": "ba161ba3",
   "metadata": {},
   "source": [
    "## MOVIES DATASET DESCRIPTION\n",
    "\n",
    "\n"
   ]
  },
  {
   "cell_type": "code",
   "execution_count": 29,
   "id": "a65708f0",
   "metadata": {},
   "outputs": [
    {
     "data": {
      "text/html": [
       "<div>\n",
       "<style scoped>\n",
       "    .dataframe tbody tr th:only-of-type {\n",
       "        vertical-align: middle;\n",
       "    }\n",
       "\n",
       "    .dataframe tbody tr th {\n",
       "        vertical-align: top;\n",
       "    }\n",
       "\n",
       "    .dataframe thead th {\n",
       "        text-align: right;\n",
       "    }\n",
       "</style>\n",
       "<table border=\"1\" class=\"dataframe\">\n",
       "  <thead>\n",
       "    <tr style=\"text-align: right;\">\n",
       "      <th></th>\n",
       "      <th>imdb_title_id</th>\n",
       "      <th>title</th>\n",
       "      <th>original_title</th>\n",
       "      <th>year</th>\n",
       "      <th>date_published</th>\n",
       "      <th>genre</th>\n",
       "      <th>duration</th>\n",
       "      <th>country</th>\n",
       "      <th>language</th>\n",
       "      <th>director</th>\n",
       "      <th>...</th>\n",
       "      <th>actors</th>\n",
       "      <th>description</th>\n",
       "      <th>avg_vote</th>\n",
       "      <th>votes</th>\n",
       "      <th>budget</th>\n",
       "      <th>usa_gross_income</th>\n",
       "      <th>worlwide_gross_income</th>\n",
       "      <th>metascore</th>\n",
       "      <th>reviews_from_users</th>\n",
       "      <th>reviews_from_critics</th>\n",
       "    </tr>\n",
       "  </thead>\n",
       "  <tbody>\n",
       "    <tr>\n",
       "      <th>0</th>\n",
       "      <td>tt0000009</td>\n",
       "      <td>Miss Jerry</td>\n",
       "      <td>Miss Jerry</td>\n",
       "      <td>1894</td>\n",
       "      <td>1894-10-09</td>\n",
       "      <td>Romance</td>\n",
       "      <td>45</td>\n",
       "      <td>USA</td>\n",
       "      <td>NaN</td>\n",
       "      <td>Alexander Black</td>\n",
       "      <td>...</td>\n",
       "      <td>Blanche Bayliss, William Courtenay, Chauncey D...</td>\n",
       "      <td>The adventures of a female reporter in the 1890s.</td>\n",
       "      <td>5.9</td>\n",
       "      <td>154</td>\n",
       "      <td>NaN</td>\n",
       "      <td>NaN</td>\n",
       "      <td>NaN</td>\n",
       "      <td>NaN</td>\n",
       "      <td>1.0</td>\n",
       "      <td>2.0</td>\n",
       "    </tr>\n",
       "    <tr>\n",
       "      <th>1</th>\n",
       "      <td>tt0000574</td>\n",
       "      <td>The Story of the Kelly Gang</td>\n",
       "      <td>The Story of the Kelly Gang</td>\n",
       "      <td>1906</td>\n",
       "      <td>1906-12-26</td>\n",
       "      <td>Biography, Crime, Drama</td>\n",
       "      <td>70</td>\n",
       "      <td>Australia</td>\n",
       "      <td>NaN</td>\n",
       "      <td>Charles Tait</td>\n",
       "      <td>...</td>\n",
       "      <td>Elizabeth Tait, John Tait, Norman Campbell, Be...</td>\n",
       "      <td>True story of notorious Australian outlaw Ned ...</td>\n",
       "      <td>6.1</td>\n",
       "      <td>589</td>\n",
       "      <td>$ 2250</td>\n",
       "      <td>NaN</td>\n",
       "      <td>NaN</td>\n",
       "      <td>NaN</td>\n",
       "      <td>7.0</td>\n",
       "      <td>7.0</td>\n",
       "    </tr>\n",
       "    <tr>\n",
       "      <th>2</th>\n",
       "      <td>tt0001892</td>\n",
       "      <td>Den sorte drøm</td>\n",
       "      <td>Den sorte drøm</td>\n",
       "      <td>1911</td>\n",
       "      <td>1911-08-19</td>\n",
       "      <td>Drama</td>\n",
       "      <td>53</td>\n",
       "      <td>Germany, Denmark</td>\n",
       "      <td>NaN</td>\n",
       "      <td>Urban Gad</td>\n",
       "      <td>...</td>\n",
       "      <td>Asta Nielsen, Valdemar Psilander, Gunnar Helse...</td>\n",
       "      <td>Two men of high rank are both wooing the beaut...</td>\n",
       "      <td>5.8</td>\n",
       "      <td>188</td>\n",
       "      <td>NaN</td>\n",
       "      <td>NaN</td>\n",
       "      <td>NaN</td>\n",
       "      <td>NaN</td>\n",
       "      <td>5.0</td>\n",
       "      <td>2.0</td>\n",
       "    </tr>\n",
       "    <tr>\n",
       "      <th>3</th>\n",
       "      <td>tt0002101</td>\n",
       "      <td>Cleopatra</td>\n",
       "      <td>Cleopatra</td>\n",
       "      <td>1912</td>\n",
       "      <td>1912-11-13</td>\n",
       "      <td>Drama, History</td>\n",
       "      <td>100</td>\n",
       "      <td>USA</td>\n",
       "      <td>English</td>\n",
       "      <td>Charles L. Gaskill</td>\n",
       "      <td>...</td>\n",
       "      <td>Helen Gardner, Pearl Sindelar, Miss Fielding, ...</td>\n",
       "      <td>The fabled queen of Egypt's affair with Roman ...</td>\n",
       "      <td>5.2</td>\n",
       "      <td>446</td>\n",
       "      <td>$ 45000</td>\n",
       "      <td>NaN</td>\n",
       "      <td>NaN</td>\n",
       "      <td>NaN</td>\n",
       "      <td>25.0</td>\n",
       "      <td>3.0</td>\n",
       "    </tr>\n",
       "    <tr>\n",
       "      <th>4</th>\n",
       "      <td>tt0002130</td>\n",
       "      <td>L'Inferno</td>\n",
       "      <td>L'Inferno</td>\n",
       "      <td>1911</td>\n",
       "      <td>1911-03-06</td>\n",
       "      <td>Adventure, Drama, Fantasy</td>\n",
       "      <td>68</td>\n",
       "      <td>Italy</td>\n",
       "      <td>Italian</td>\n",
       "      <td>Francesco Bertolini, Adolfo Padovan</td>\n",
       "      <td>...</td>\n",
       "      <td>Salvatore Papa, Arturo Pirovano, Giuseppe de L...</td>\n",
       "      <td>Loosely adapted from Dante's Divine Comedy and...</td>\n",
       "      <td>7.0</td>\n",
       "      <td>2237</td>\n",
       "      <td>NaN</td>\n",
       "      <td>NaN</td>\n",
       "      <td>NaN</td>\n",
       "      <td>NaN</td>\n",
       "      <td>31.0</td>\n",
       "      <td>14.0</td>\n",
       "    </tr>\n",
       "  </tbody>\n",
       "</table>\n",
       "<p>5 rows × 22 columns</p>\n",
       "</div>"
      ],
      "text/plain": [
       "  imdb_title_id                        title               original_title  \\\n",
       "0     tt0000009                   Miss Jerry                   Miss Jerry   \n",
       "1     tt0000574  The Story of the Kelly Gang  The Story of the Kelly Gang   \n",
       "2     tt0001892               Den sorte drøm               Den sorte drøm   \n",
       "3     tt0002101                    Cleopatra                    Cleopatra   \n",
       "4     tt0002130                    L'Inferno                    L'Inferno   \n",
       "\n",
       "   year date_published                      genre  duration           country  \\\n",
       "0  1894     1894-10-09                    Romance        45               USA   \n",
       "1  1906     1906-12-26    Biography, Crime, Drama        70         Australia   \n",
       "2  1911     1911-08-19                      Drama        53  Germany, Denmark   \n",
       "3  1912     1912-11-13             Drama, History       100               USA   \n",
       "4  1911     1911-03-06  Adventure, Drama, Fantasy        68             Italy   \n",
       "\n",
       "  language                             director  ...  \\\n",
       "0      NaN                      Alexander Black  ...   \n",
       "1      NaN                         Charles Tait  ...   \n",
       "2      NaN                            Urban Gad  ...   \n",
       "3  English                   Charles L. Gaskill  ...   \n",
       "4  Italian  Francesco Bertolini, Adolfo Padovan  ...   \n",
       "\n",
       "                                              actors  \\\n",
       "0  Blanche Bayliss, William Courtenay, Chauncey D...   \n",
       "1  Elizabeth Tait, John Tait, Norman Campbell, Be...   \n",
       "2  Asta Nielsen, Valdemar Psilander, Gunnar Helse...   \n",
       "3  Helen Gardner, Pearl Sindelar, Miss Fielding, ...   \n",
       "4  Salvatore Papa, Arturo Pirovano, Giuseppe de L...   \n",
       "\n",
       "                                         description avg_vote votes   budget  \\\n",
       "0  The adventures of a female reporter in the 1890s.      5.9   154      NaN   \n",
       "1  True story of notorious Australian outlaw Ned ...      6.1   589   $ 2250   \n",
       "2  Two men of high rank are both wooing the beaut...      5.8   188      NaN   \n",
       "3  The fabled queen of Egypt's affair with Roman ...      5.2   446  $ 45000   \n",
       "4  Loosely adapted from Dante's Divine Comedy and...      7.0  2237      NaN   \n",
       "\n",
       "   usa_gross_income worlwide_gross_income metascore reviews_from_users  \\\n",
       "0               NaN                   NaN       NaN                1.0   \n",
       "1               NaN                   NaN       NaN                7.0   \n",
       "2               NaN                   NaN       NaN                5.0   \n",
       "3               NaN                   NaN       NaN               25.0   \n",
       "4               NaN                   NaN       NaN               31.0   \n",
       "\n",
       "   reviews_from_critics  \n",
       "0                   2.0  \n",
       "1                   7.0  \n",
       "2                   2.0  \n",
       "3                   3.0  \n",
       "4                  14.0  \n",
       "\n",
       "[5 rows x 22 columns]"
      ]
     },
     "execution_count": 29,
     "metadata": {},
     "output_type": "execute_result"
    }
   ],
   "source": [
    "movies_df.head()"
   ]
  },
  {
   "cell_type": "markdown",
   "id": "38301b33",
   "metadata": {},
   "source": [
    "### _Shape_"
   ]
  },
  {
   "cell_type": "code",
   "execution_count": 12,
   "id": "6344e9dc",
   "metadata": {},
   "outputs": [
    {
     "name": "stdout",
     "output_type": "stream",
     "text": [
      "Movie Dataset Shape:\n",
      "\n",
      "(85855, 22)\n"
     ]
    }
   ],
   "source": [
    "print(\"Movie Dataset Shape:\\n\")\n",
    "print(movies_df.shape) "
   ]
  },
  {
   "cell_type": "markdown",
   "id": "3c138d89",
   "metadata": {},
   "source": [
    "### _DataSet columns and dataTypes_\n"
   ]
  },
  {
   "cell_type": "code",
   "execution_count": 11,
   "id": "bca0cbe2",
   "metadata": {},
   "outputs": [
    {
     "name": "stdout",
     "output_type": "stream",
     "text": [
      " Movie Dataset Columns and Data Types:\n",
      "\n",
      "imdb_title_id             object\n",
      "title                     object\n",
      "original_title            object\n",
      "year                      object\n",
      "date_published            object\n",
      "genre                     object\n",
      "duration                   int64\n",
      "country                   object\n",
      "language                  object\n",
      "director                  object\n",
      "writer                    object\n",
      "production_company        object\n",
      "actors                    object\n",
      "description               object\n",
      "avg_vote                 float64\n",
      "votes                      int64\n",
      "budget                    object\n",
      "usa_gross_income          object\n",
      "worlwide_gross_income     object\n",
      "metascore                float64\n",
      "reviews_from_users       float64\n",
      "reviews_from_critics     float64\n",
      "dtype: object\n"
     ]
    }
   ],
   "source": [
    "print(\" Movie Dataset Columns and Data Types:\\n\")\n",
    "print(movies_df.dtypes)"
   ]
  },
  {
   "cell_type": "markdown",
   "id": "42a9b032",
   "metadata": {},
   "source": [
    "### _Summary Statics_"
   ]
  },
  {
   "cell_type": "code",
   "execution_count": 28,
   "id": "aa8f3fc0",
   "metadata": {},
   "outputs": [
    {
     "name": "stdout",
     "output_type": "stream",
     "text": [
      " Statistics: \n",
      "\n",
      "           duration      avg_vote         votes     metascore  \\\n",
      "count  85855.000000  85855.000000  8.585500e+04  13305.000000   \n",
      "mean     100.351418      5.898656  9.493490e+03     55.896881   \n",
      "std       22.553848      1.234987  5.357436e+04     17.784874   \n",
      "min       41.000000      1.000000  9.900000e+01      1.000000   \n",
      "25%       88.000000      5.200000  2.050000e+02     43.000000   \n",
      "50%       96.000000      6.100000  4.840000e+02     57.000000   \n",
      "75%      108.000000      6.800000  1.766500e+03     69.000000   \n",
      "max      808.000000      9.900000  2.278845e+06    100.000000   \n",
      "\n",
      "       reviews_from_users  reviews_from_critics  \n",
      "count        78258.000000          74058.000000  \n",
      "mean            46.040826             27.479989  \n",
      "std            178.511411             58.339158  \n",
      "min              1.000000              1.000000  \n",
      "25%              4.000000              3.000000  \n",
      "50%              9.000000              8.000000  \n",
      "75%             27.000000             23.000000  \n",
      "max          10472.000000            999.000000  \n"
     ]
    }
   ],
   "source": [
    "print(\" Statistics: \\n\")\n",
    "print(movies_df.describe())"
   ]
  },
  {
   "cell_type": "markdown",
   "id": "e5adce26",
   "metadata": {},
   "source": [
    "### _Checking missing values_\n"
   ]
  },
  {
   "cell_type": "code",
   "execution_count": 14,
   "id": "a7c04184",
   "metadata": {},
   "outputs": [
    {
     "name": "stdout",
     "output_type": "stream",
     "text": [
      "Checking Missing Values (Movie Dataset):\n",
      " \n",
      "imdb_title_id                0\n",
      "title                        0\n",
      "original_title               0\n",
      "year                         0\n",
      "date_published               0\n",
      "genre                        0\n",
      "duration                     0\n",
      "country                     64\n",
      "language                   901\n",
      "director                    87\n",
      "writer                    1572\n",
      "production_company        4455\n",
      "actors                      69\n",
      "description               2115\n",
      "avg_vote                     0\n",
      "votes                        0\n",
      "budget                   62145\n",
      "usa_gross_income         70529\n",
      "worlwide_gross_income    54839\n",
      "metascore                72550\n",
      "reviews_from_users        7597\n",
      "reviews_from_critics     11797\n",
      "dtype: int64\n"
     ]
    }
   ],
   "source": [
    "print(\"Checking Missing Values (Movie Dataset):\\n \")\n",
    "print(movies_df.isnull().sum())"
   ]
  },
  {
   "cell_type": "markdown",
   "id": "2901328b",
   "metadata": {},
   "source": [
    "### _Summary of categorical columns_"
   ]
  },
  {
   "cell_type": "code",
   "execution_count": 17,
   "id": "b5984dcb",
   "metadata": {},
   "outputs": [
    {
     "name": "stdout",
     "output_type": "stream",
     "text": [
      "Summary of Categorical Columns (e.g., Genre, Country, Language):\n",
      "\n",
      "Unique genres: 1257\n",
      "Unique countries: 4907\n",
      "Unique languages: 4376\n"
     ]
    }
   ],
   "source": [
    "print(\"Summary of Categorical Columns (e.g., Genre, Country, Language):\\n\")\n",
    "print(\"Unique genres:\", movies_df['genre'].nunique())\n",
    "print(\"Unique countries:\", movies_df['country'].nunique())\n",
    "print(\"Unique languages:\", movies_df['language'].nunique())"
   ]
  },
  {
   "cell_type": "markdown",
   "id": "98e47f0d",
   "metadata": {},
   "source": [
    "### _Unique Movies by IMBb ID_"
   ]
  },
  {
   "cell_type": "code",
   "execution_count": 18,
   "id": "edd788fb",
   "metadata": {},
   "outputs": [
    {
     "name": "stdout",
     "output_type": "stream",
     "text": [
      " Unique Movies by IMDb ID:\n",
      "\n",
      "85855\n"
     ]
    }
   ],
   "source": [
    "print(\" Unique Movies by IMDb ID:\\n\")\n",
    "print(movies_df['imdb_title_id'].nunique())"
   ]
  },
  {
   "cell_type": "markdown",
   "id": "2eda79a8",
   "metadata": {},
   "source": [
    "## RATING DATASET DESCRIPTION\n",
    "\n"
   ]
  },
  {
   "cell_type": "code",
   "execution_count": 31,
   "id": "e7db5fb3",
   "metadata": {},
   "outputs": [
    {
     "data": {
      "text/html": [
       "<div>\n",
       "<style scoped>\n",
       "    .dataframe tbody tr th:only-of-type {\n",
       "        vertical-align: middle;\n",
       "    }\n",
       "\n",
       "    .dataframe tbody tr th {\n",
       "        vertical-align: top;\n",
       "    }\n",
       "\n",
       "    .dataframe thead th {\n",
       "        text-align: right;\n",
       "    }\n",
       "</style>\n",
       "<table border=\"1\" class=\"dataframe\">\n",
       "  <thead>\n",
       "    <tr style=\"text-align: right;\">\n",
       "      <th></th>\n",
       "      <th>imdb_title_id</th>\n",
       "      <th>weighted_average_vote</th>\n",
       "      <th>total_votes</th>\n",
       "      <th>mean_vote</th>\n",
       "      <th>median_vote</th>\n",
       "      <th>votes_10</th>\n",
       "      <th>votes_9</th>\n",
       "      <th>votes_8</th>\n",
       "      <th>votes_7</th>\n",
       "      <th>votes_6</th>\n",
       "      <th>...</th>\n",
       "      <th>females_30age_avg_vote</th>\n",
       "      <th>females_30age_votes</th>\n",
       "      <th>females_45age_avg_vote</th>\n",
       "      <th>females_45age_votes</th>\n",
       "      <th>top1000_voters_rating</th>\n",
       "      <th>top1000_voters_votes</th>\n",
       "      <th>us_voters_rating</th>\n",
       "      <th>us_voters_votes</th>\n",
       "      <th>non_us_voters_rating</th>\n",
       "      <th>non_us_voters_votes</th>\n",
       "    </tr>\n",
       "  </thead>\n",
       "  <tbody>\n",
       "    <tr>\n",
       "      <th>0</th>\n",
       "      <td>tt0000009</td>\n",
       "      <td>5.9</td>\n",
       "      <td>154</td>\n",
       "      <td>5.9</td>\n",
       "      <td>6.0</td>\n",
       "      <td>12</td>\n",
       "      <td>4</td>\n",
       "      <td>10</td>\n",
       "      <td>43</td>\n",
       "      <td>28</td>\n",
       "      <td>...</td>\n",
       "      <td>5.7</td>\n",
       "      <td>13.0</td>\n",
       "      <td>4.5</td>\n",
       "      <td>4.0</td>\n",
       "      <td>5.7</td>\n",
       "      <td>34.0</td>\n",
       "      <td>6.4</td>\n",
       "      <td>51.0</td>\n",
       "      <td>6.0</td>\n",
       "      <td>70.0</td>\n",
       "    </tr>\n",
       "    <tr>\n",
       "      <th>1</th>\n",
       "      <td>tt0000574</td>\n",
       "      <td>6.1</td>\n",
       "      <td>589</td>\n",
       "      <td>6.3</td>\n",
       "      <td>6.0</td>\n",
       "      <td>57</td>\n",
       "      <td>18</td>\n",
       "      <td>58</td>\n",
       "      <td>137</td>\n",
       "      <td>139</td>\n",
       "      <td>...</td>\n",
       "      <td>6.2</td>\n",
       "      <td>23.0</td>\n",
       "      <td>6.6</td>\n",
       "      <td>14.0</td>\n",
       "      <td>6.4</td>\n",
       "      <td>66.0</td>\n",
       "      <td>6.0</td>\n",
       "      <td>96.0</td>\n",
       "      <td>6.2</td>\n",
       "      <td>331.0</td>\n",
       "    </tr>\n",
       "    <tr>\n",
       "      <th>2</th>\n",
       "      <td>tt0001892</td>\n",
       "      <td>5.8</td>\n",
       "      <td>188</td>\n",
       "      <td>6.0</td>\n",
       "      <td>6.0</td>\n",
       "      <td>6</td>\n",
       "      <td>6</td>\n",
       "      <td>17</td>\n",
       "      <td>44</td>\n",
       "      <td>52</td>\n",
       "      <td>...</td>\n",
       "      <td>5.8</td>\n",
       "      <td>4.0</td>\n",
       "      <td>6.8</td>\n",
       "      <td>7.0</td>\n",
       "      <td>5.4</td>\n",
       "      <td>32.0</td>\n",
       "      <td>6.2</td>\n",
       "      <td>31.0</td>\n",
       "      <td>5.9</td>\n",
       "      <td>123.0</td>\n",
       "    </tr>\n",
       "    <tr>\n",
       "      <th>3</th>\n",
       "      <td>tt0002101</td>\n",
       "      <td>5.2</td>\n",
       "      <td>446</td>\n",
       "      <td>5.3</td>\n",
       "      <td>5.0</td>\n",
       "      <td>15</td>\n",
       "      <td>8</td>\n",
       "      <td>16</td>\n",
       "      <td>62</td>\n",
       "      <td>98</td>\n",
       "      <td>...</td>\n",
       "      <td>5.5</td>\n",
       "      <td>14.0</td>\n",
       "      <td>6.1</td>\n",
       "      <td>21.0</td>\n",
       "      <td>4.9</td>\n",
       "      <td>57.0</td>\n",
       "      <td>5.5</td>\n",
       "      <td>207.0</td>\n",
       "      <td>4.7</td>\n",
       "      <td>105.0</td>\n",
       "    </tr>\n",
       "    <tr>\n",
       "      <th>4</th>\n",
       "      <td>tt0002130</td>\n",
       "      <td>7.0</td>\n",
       "      <td>2237</td>\n",
       "      <td>6.9</td>\n",
       "      <td>7.0</td>\n",
       "      <td>210</td>\n",
       "      <td>225</td>\n",
       "      <td>436</td>\n",
       "      <td>641</td>\n",
       "      <td>344</td>\n",
       "      <td>...</td>\n",
       "      <td>7.3</td>\n",
       "      <td>82.0</td>\n",
       "      <td>7.4</td>\n",
       "      <td>77.0</td>\n",
       "      <td>6.9</td>\n",
       "      <td>139.0</td>\n",
       "      <td>7.0</td>\n",
       "      <td>488.0</td>\n",
       "      <td>7.0</td>\n",
       "      <td>1166.0</td>\n",
       "    </tr>\n",
       "  </tbody>\n",
       "</table>\n",
       "<p>5 rows × 49 columns</p>\n",
       "</div>"
      ],
      "text/plain": [
       "  imdb_title_id  weighted_average_vote  total_votes  mean_vote  median_vote  \\\n",
       "0     tt0000009                    5.9          154        5.9          6.0   \n",
       "1     tt0000574                    6.1          589        6.3          6.0   \n",
       "2     tt0001892                    5.8          188        6.0          6.0   \n",
       "3     tt0002101                    5.2          446        5.3          5.0   \n",
       "4     tt0002130                    7.0         2237        6.9          7.0   \n",
       "\n",
       "   votes_10  votes_9  votes_8  votes_7  votes_6  ...  females_30age_avg_vote  \\\n",
       "0        12        4       10       43       28  ...                     5.7   \n",
       "1        57       18       58      137      139  ...                     6.2   \n",
       "2         6        6       17       44       52  ...                     5.8   \n",
       "3        15        8       16       62       98  ...                     5.5   \n",
       "4       210      225      436      641      344  ...                     7.3   \n",
       "\n",
       "   females_30age_votes  females_45age_avg_vote  females_45age_votes  \\\n",
       "0                 13.0                     4.5                  4.0   \n",
       "1                 23.0                     6.6                 14.0   \n",
       "2                  4.0                     6.8                  7.0   \n",
       "3                 14.0                     6.1                 21.0   \n",
       "4                 82.0                     7.4                 77.0   \n",
       "\n",
       "   top1000_voters_rating  top1000_voters_votes  us_voters_rating  \\\n",
       "0                    5.7                  34.0               6.4   \n",
       "1                    6.4                  66.0               6.0   \n",
       "2                    5.4                  32.0               6.2   \n",
       "3                    4.9                  57.0               5.5   \n",
       "4                    6.9                 139.0               7.0   \n",
       "\n",
       "   us_voters_votes  non_us_voters_rating  non_us_voters_votes  \n",
       "0             51.0                   6.0                 70.0  \n",
       "1             96.0                   6.2                331.0  \n",
       "2             31.0                   5.9                123.0  \n",
       "3            207.0                   4.7                105.0  \n",
       "4            488.0                   7.0               1166.0  \n",
       "\n",
       "[5 rows x 49 columns]"
      ]
     },
     "execution_count": 31,
     "metadata": {},
     "output_type": "execute_result"
    }
   ],
   "source": [
    "ratings_df.head()"
   ]
  },
  {
   "cell_type": "markdown",
   "id": "3a800420",
   "metadata": {},
   "source": [
    "### _Shape_"
   ]
  },
  {
   "cell_type": "code",
   "execution_count": 20,
   "id": "6dd98b85",
   "metadata": {},
   "outputs": [
    {
     "name": "stdout",
     "output_type": "stream",
     "text": [
      " Ratings Dataset Shape:\n",
      "\n",
      "(85855, 49)\n"
     ]
    }
   ],
   "source": [
    "print(\" Ratings Dataset Shape:\\n\")\n",
    "print(ratings_df.shape)"
   ]
  },
  {
   "cell_type": "markdown",
   "id": "47626eec",
   "metadata": {},
   "source": [
    "### _DataSet columns and dataTypes_"
   ]
  },
  {
   "cell_type": "code",
   "execution_count": 21,
   "id": "108282f2",
   "metadata": {},
   "outputs": [
    {
     "name": "stdout",
     "output_type": "stream",
     "text": [
      "Ratings Dataset Columns and Data Types:\n",
      "\n",
      "imdb_title_id                 object\n",
      "weighted_average_vote        float64\n",
      "total_votes                    int64\n",
      "mean_vote                    float64\n",
      "median_vote                  float64\n",
      "votes_10                       int64\n",
      "votes_9                        int64\n",
      "votes_8                        int64\n",
      "votes_7                        int64\n",
      "votes_6                        int64\n",
      "votes_5                        int64\n",
      "votes_4                        int64\n",
      "votes_3                        int64\n",
      "votes_2                        int64\n",
      "votes_1                        int64\n",
      "allgenders_0age_avg_vote     float64\n",
      "allgenders_0age_votes        float64\n",
      "allgenders_18age_avg_vote    float64\n",
      "allgenders_18age_votes       float64\n",
      "allgenders_30age_avg_vote    float64\n",
      "allgenders_30age_votes       float64\n",
      "allgenders_45age_avg_vote    float64\n",
      "allgenders_45age_votes       float64\n",
      "males_allages_avg_vote       float64\n",
      "males_allages_votes          float64\n",
      "males_0age_avg_vote          float64\n",
      "males_0age_votes             float64\n",
      "males_18age_avg_vote         float64\n",
      "males_18age_votes            float64\n",
      "males_30age_avg_vote         float64\n",
      "males_30age_votes            float64\n",
      "males_45age_avg_vote         float64\n",
      "males_45age_votes            float64\n",
      "females_allages_avg_vote     float64\n",
      "females_allages_votes        float64\n",
      "females_0age_avg_vote        float64\n",
      "females_0age_votes           float64\n",
      "females_18age_avg_vote       float64\n",
      "females_18age_votes          float64\n",
      "females_30age_avg_vote       float64\n",
      "females_30age_votes          float64\n",
      "females_45age_avg_vote       float64\n",
      "females_45age_votes          float64\n",
      "top1000_voters_rating        float64\n",
      "top1000_voters_votes         float64\n",
      "us_voters_rating             float64\n",
      "us_voters_votes              float64\n",
      "non_us_voters_rating         float64\n",
      "non_us_voters_votes          float64\n",
      "dtype: object\n"
     ]
    }
   ],
   "source": [
    "print(\"Ratings Dataset Columns and Data Types:\\n\")\n",
    "print(ratings_df.dtypes)"
   ]
  },
  {
   "cell_type": "markdown",
   "id": "6e2cfd8c",
   "metadata": {},
   "source": [
    "### _Summary Statics_"
   ]
  },
  {
   "cell_type": "code",
   "execution_count": 22,
   "id": "ee164ce9",
   "metadata": {},
   "outputs": [
    {
     "name": "stdout",
     "output_type": "stream",
     "text": [
      "Summary Statistics (Numerical Columns - Ratings):\n",
      "\n",
      "       weighted_average_vote   total_votes     mean_vote   median_vote  \\\n",
      "count           85855.000000  8.585500e+04  85855.000000  85855.000000   \n",
      "mean                5.898656  9.493490e+03      6.226342      6.267853   \n",
      "std                 1.234987  5.357436e+04      1.155280      1.481168   \n",
      "min                 1.000000  9.900000e+01      1.000000      1.000000   \n",
      "25%                 5.200000  2.050000e+02      5.600000      6.000000   \n",
      "50%                 6.100000  4.840000e+02      6.400000      6.000000   \n",
      "75%                 6.800000  1.766500e+03      7.000000      7.000000   \n",
      "max                 9.900000  2.278845e+06      9.800000     10.000000   \n",
      "\n",
      "           votes_10        votes_9        votes_8        votes_7  \\\n",
      "count  8.585500e+04   85855.000000   85855.000000   85855.000000   \n",
      "mean   1.216158e+03    1196.774608    2040.896337    2105.668371   \n",
      "std    1.245582e+04   11735.363316   13801.122865   10699.375191   \n",
      "min    0.000000e+00       0.000000       0.000000       0.000000   \n",
      "25%    2.100000e+01       8.000000      18.000000      28.000000   \n",
      "50%    5.100000e+01      24.000000      49.000000      77.000000   \n",
      "75%    1.920000e+02     111.500000     234.000000     342.000000   \n",
      "max    1.259076e+06  629582.000000  418070.000000  241832.000000   \n",
      "\n",
      "             votes_6       votes_5  ...  females_30age_avg_vote  \\\n",
      "count   85855.000000  85855.000000  ...            84911.000000   \n",
      "mean     1353.192802    700.291177  ...                6.071223   \n",
      "std      5976.801303   2931.301270  ...                1.454370   \n",
      "min         0.000000      0.000000  ...                1.000000   \n",
      "25%        30.000000     22.000000  ...                5.300000   \n",
      "50%        76.000000     53.000000  ...                6.300000   \n",
      "75%       290.000000    178.000000  ...                7.000000   \n",
      "max    145740.000000  78385.000000  ...               10.000000   \n",
      "\n",
      "       females_30age_votes  females_45age_avg_vote  females_45age_votes  \\\n",
      "count         84911.000000            83057.000000         83057.000000   \n",
      "mean            685.655451                6.022226           196.065341   \n",
      "std            3732.376186                1.541895           842.979585   \n",
      "min               1.000000                1.000000             1.000000   \n",
      "25%              10.000000                5.200000             6.000000   \n",
      "50%              27.000000                6.200000            16.000000   \n",
      "75%             109.000000                7.000000            62.000000   \n",
      "max          129249.000000               10.000000         34317.000000   \n",
      "\n",
      "       top1000_voters_rating  top1000_voters_votes  us_voters_rating  \\\n",
      "count           85176.000000          85176.000000      85646.000000   \n",
      "mean                5.155706             76.110231          5.925910   \n",
      "std                 1.290920            124.264020          1.308087   \n",
      "min                 1.000000              1.000000          1.000000   \n",
      "25%                 4.400000             11.000000          5.200000   \n",
      "50%                 5.300000             29.000000          6.100000   \n",
      "75%                 6.000000             77.000000          6.800000   \n",
      "max                10.000000            928.000000         10.000000   \n",
      "\n",
      "       us_voters_votes  non_us_voters_rating  non_us_voters_votes  \n",
      "count     85646.000000          85854.000000         85854.000000  \n",
      "mean       1647.822537              5.749638          4332.940865  \n",
      "std        8455.978158              1.285570         23243.807279  \n",
      "min           1.000000              1.000000             1.000000  \n",
      "25%          24.000000              5.000000            95.000000  \n",
      "50%          81.000000              6.000000           225.000000  \n",
      "75%         335.000000              6.700000           841.000000  \n",
      "max      348363.000000             10.000000        887226.000000  \n",
      "\n",
      "[8 rows x 48 columns]\n"
     ]
    }
   ],
   "source": [
    "print(\"Summary Statistics (Numerical Columns - Ratings):\\n\")\n",
    "print(ratings_df.describe())"
   ]
  },
  {
   "cell_type": "markdown",
   "id": "4274e68d",
   "metadata": {},
   "source": [
    "### _Checking missing values_"
   ]
  },
  {
   "cell_type": "code",
   "execution_count": 25,
   "id": "ff16d5f7",
   "metadata": {},
   "outputs": [
    {
     "name": "stdout",
     "output_type": "stream",
     "text": [
      " Checking Missing Values (Ratings Dataset):\n",
      "\n",
      "imdb_title_id                    0\n",
      "weighted_average_vote            0\n",
      "total_votes                      0\n",
      "mean_vote                        0\n",
      "median_vote                      0\n",
      "votes_10                         0\n",
      "votes_9                          0\n",
      "votes_8                          0\n",
      "votes_7                          0\n",
      "votes_6                          0\n",
      "votes_5                          0\n",
      "votes_4                          0\n",
      "votes_3                          0\n",
      "votes_2                          0\n",
      "votes_1                          0\n",
      "allgenders_0age_avg_vote     52496\n",
      "allgenders_0age_votes        52496\n",
      "allgenders_18age_avg_vote      706\n",
      "allgenders_18age_votes         706\n",
      "allgenders_30age_avg_vote       10\n",
      "allgenders_30age_votes          10\n",
      "allgenders_45age_avg_vote       80\n",
      "allgenders_45age_votes          80\n",
      "males_allages_avg_vote           1\n",
      "males_allages_votes              1\n",
      "males_0age_avg_vote          58444\n",
      "males_0age_votes             58444\n",
      "males_18age_avg_vote          1465\n",
      "males_18age_votes             1465\n",
      "males_30age_avg_vote            12\n",
      "males_30age_votes               12\n",
      "males_45age_avg_vote           101\n",
      "males_45age_votes              101\n",
      "females_allages_avg_vote        81\n",
      "females_allages_votes           81\n",
      "females_0age_avg_vote        63738\n",
      "females_0age_votes           63738\n",
      "females_18age_avg_vote        6521\n",
      "females_18age_votes           6521\n",
      "females_30age_avg_vote         944\n",
      "females_30age_votes            944\n",
      "females_45age_avg_vote        2798\n",
      "females_45age_votes           2798\n",
      "top1000_voters_rating          679\n",
      "top1000_voters_votes           679\n",
      "us_voters_rating               209\n",
      "us_voters_votes                209\n",
      "non_us_voters_rating             1\n",
      "non_us_voters_votes              1\n",
      "dtype: int64\n"
     ]
    }
   ],
   "source": [
    "print(\" Checking Missing Values (Ratings Dataset):\\n\")\n",
    "print(ratings_df.isnull().sum())"
   ]
  },
  {
   "cell_type": "markdown",
   "id": "8b2daa2d",
   "metadata": {},
   "source": [
    "### _Unique Ratings by IMBb ID_"
   ]
  },
  {
   "cell_type": "code",
   "execution_count": 24,
   "id": "b5ced231",
   "metadata": {},
   "outputs": [
    {
     "name": "stdout",
     "output_type": "stream",
     "text": [
      " Unique Ratings by IMDb ID:\n",
      "\n",
      "85855\n"
     ]
    }
   ],
   "source": [
    "print(\" Unique Ratings by IMDb ID:\\n\")\n",
    "print(ratings_df['imdb_title_id'].nunique())"
   ]
  },
  {
   "cell_type": "markdown",
   "id": "d696b344",
   "metadata": {},
   "source": [
    "## _Relationship check between Movies and Ratings_"
   ]
  },
  {
   "cell_type": "code",
   "execution_count": 27,
   "id": "36ec5e68",
   "metadata": {},
   "outputs": [
    {
     "name": "stdout",
     "output_type": "stream",
     "text": [
      " Do all rated movies exist in the movies dataset?\n",
      "\n",
      "Match %: 100.0\n"
     ]
    }
   ],
   "source": [
    "print(\" Do all rated movies exist in the movies dataset?\\n\")\n",
    "matched_ids = ratings_df['imdb_title_id'].isin(movies_df['imdb_title_id'])\n",
    "print(\"Match %:\", matched_ids.mean() * 100)"
   ]
  }
 ],
 "metadata": {
  "kernelspec": {
   "display_name": "Python 3",
   "language": "python",
   "name": "python3"
  },
  "language_info": {
   "codemirror_mode": {
    "name": "ipython",
    "version": 3
   },
   "file_extension": ".py",
   "mimetype": "text/x-python",
   "name": "python",
   "nbconvert_exporter": "python",
   "pygments_lexer": "ipython3",
   "version": "3.12.4"
  }
 },
 "nbformat": 4,
 "nbformat_minor": 5
}
